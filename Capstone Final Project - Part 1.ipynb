{
    "nbformat_minor": 1, 
    "cells": [
        {
            "source": "# **Choosing the Best Store Category**", 
            "cell_type": "markdown", 
            "metadata": {
                "collapsed": true
            }
        }, 
        {
            "source": "## Introduction/ Business Problem", 
            "cell_type": "markdown", 
            "metadata": {}
        }, 
        {
            "source": "The city of Toronto is always growing, implementing changes, and finding new ways to attract new people. There are tons of different varieties of stores from big malls to diverse ethnic dining. However, considering how diverse the type of stores is already in Toronto, how should a person hoping to open a store in Toronto approach this? If they want to open a restaurant, will they have too many competitions if its an Italian restaurant? What about Chinese restaurant? This is where Foursquare API will extremely useful since I can obtain information about the trending stores within Toronto. Since Toronto is quite large, I can break up Toronto into small clusters to analyze within a cluster what types of stores are more popular against others. ", 
            "cell_type": "markdown", 
            "metadata": {}
        }, 
        {
            "source": "There are two ways of analyzing this problem. I can obtain more general analysis to see which type of stores are the most popular within each cluster and see if a type sticks out above others. Or I can examine a single cluster very closely to analyze the trend within the cluster and see what type of store can fit the trend better. ", 
            "cell_type": "markdown", 
            "metadata": {}
        }, 
        {
            "source": "## Data Used", 
            "cell_type": "markdown", 
            "metadata": {}
        }, 
        {
            "source": "For the data, I will be using the Toronto locations data from https://en.wikipedia.org/wiki/List_of_postal_codes_of_Canada:_M which is the same dataset provided in the previous week. I will also be using the Longitude and Latitude dataset(http://cocl.us/Geospatial_data) provided by the course Moderators. By combining these two datasets, I can utilize the Foursquare API to find the most trending stores and divide the city of Toronto in different clusters. ", 
            "cell_type": "markdown", 
            "metadata": {}
        }, 
        {
            "source": "## Method of Analysis", 
            "cell_type": "markdown", 
            "metadata": {}
        }, 
        {
            "source": "As for the method I will use to analyze the data, I will use K-means cluster to help recognize the patterns in trending stores to find the best fit for my client. I can also visualize data using bar chart or a histogram to see the connection between popularity and store categories. ", 
            "cell_type": "markdown", 
            "metadata": {}
        }, 
        {
            "execution_count": null, 
            "cell_type": "code", 
            "metadata": {}, 
            "outputs": [], 
            "source": ""
        }
    ], 
    "metadata": {
        "kernelspec": {
            "display_name": "Python 3.6", 
            "name": "python3", 
            "language": "python"
        }, 
        "language_info": {
            "mimetype": "text/x-python", 
            "nbconvert_exporter": "python", 
            "version": "3.6.8", 
            "name": "python", 
            "file_extension": ".py", 
            "pygments_lexer": "ipython3", 
            "codemirror_mode": {
                "version": 3, 
                "name": "ipython"
            }
        }
    }, 
    "nbformat": 4
}